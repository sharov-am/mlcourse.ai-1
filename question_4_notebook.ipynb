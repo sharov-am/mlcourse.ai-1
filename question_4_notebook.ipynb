{
 "cells": [
  {
   "cell_type": "code",
   "execution_count": 120,
   "metadata": {},
   "outputs": [
    {
     "name": "stdout",
     "output_type": "stream",
     "text": [
      "0.86\n"
     ]
    }
   ],
   "source": [
    "import numpy as np\n",
    "from sklearn.tree import DecisionTreeClassifier\n",
    "from sklearn.metrics import accuracy_score\n",
    "import pydotplus #pip install pydotplus\n",
    "from sklearn.tree import export_graphviz\n",
    "import os\n",
    "\n",
    "def tree_graph_to_png(tree, feature_names, png_file_to_save):\n",
    "    tree_str = export_graphviz(tree, feature_names=feature_names, \n",
    "                                     filled=True, out_file=None)\n",
    "    graph = pydotplus.graph_from_dot_data(tree_str)  \n",
    "    graph.write_png(png_file_to_save)\n",
    "\n",
    "\n",
    "if os.environ['PATH'].find('Graphviz2.38') == -1:\n",
    "   os.environ['PATH'] +=\";c:\\\\Program Files (x86)\\\\Graphviz2.38\\\\bin\\\\\"\n",
    "\n",
    "np.random.seed(17)\n",
    "\n",
    "train_data = np.random.normal(size=(100, 8),loc = 6)\n",
    "test_data = np.random.normal(size=(100, 8),loc = 6)\n",
    "\n",
    "#print(type(np.array(train_data.shape)))\n",
    "#print(train_data[0,])\n",
    "\n",
    "train_labels = ((train_data[:,0]**2)/4 + (train_data[:,1]**2)/9 <= 16).astype(int)\n",
    "test_labels = ((test_data[:,0]**2)/4 + (test_data[:,1]**2)/9 <= 16).astype(int)\n",
    "\n",
    "#print(test_labels)\n",
    "\n",
    "clf_tree = DecisionTreeClassifier(criterion='entropy', max_depth=4, \n",
    "                                  random_state=17,max_features=2 ,min_samples_leaf= 1)\n",
    "\n",
    "clf_tree.fit(train_data, train_labels)\n",
    "\n",
    "\n",
    "\n",
    "\n",
    "tree_pred = clf_tree.predict(test_data)\n",
    "print(accuracy_score(test_labels, tree_pred) )\n",
    "tree_graph_to_png(tree=clf_tree, feature_names=['x1', 'x2','x3','x4','x5','x6','x7','x8'], \n",
    "                  png_file_to_save='../../img/qqq.png')"
   ]
  },
  {
   "cell_type": "code",
   "execution_count": 125,
   "metadata": {},
   "outputs": [],
   "source": [
    "from sklearn import datasets\n",
    "\n",
    "iris = datasets.load_iris()\n",
    "X = iris.data[:,:4] # we only take the first two features.\n",
    "y = iris.target\n",
    "\n",
    "clf_tree = DecisionTreeClassifier(max_depth=4,random_state=17)\n",
    "\n",
    "clf_tree.fit(X,y)\n",
    "\n",
    "tree_graph_to_png(tree=clf_tree, feature_names=['x1', 'x2','x3','x4'],  png_file_to_save='../../img/q5.png')"
   ]
  },
  {
   "cell_type": "code",
   "execution_count": null,
   "metadata": {},
   "outputs": [],
   "source": []
  }
 ],
 "metadata": {
  "kernelspec": {
   "display_name": "Python 3",
   "language": "python",
   "name": "python3"
  }
 },
 "nbformat": 4,
 "nbformat_minor": 2
}
