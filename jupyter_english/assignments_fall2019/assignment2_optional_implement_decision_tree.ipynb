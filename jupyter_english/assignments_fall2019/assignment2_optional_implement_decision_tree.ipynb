{
 "cells": [
  {
   "cell_type": "markdown",
   "metadata": {},
   "source": [
    "<center>\n",
    "<img src=\"../../img/ods_stickers.jpg\" />\n",
    "    \n",
    "## [mlcourse.ai](https://mlcourse.ai) – Open Machine Learning Course \n",
    "Author: [Yury Kashnitsky](https://yorko.github.io) (@yorko). Edited by Anna Tarelina (@feuerengel). This material is subject to the terms and conditions of the [Creative Commons CC BY-NC-SA 4.0](https://creativecommons.org/licenses/by-nc-sa/4.0/) license. Free use is permitted for any non-commercial purpose."
   ]
  },
  {
   "cell_type": "markdown",
   "metadata": {},
   "source": [
    "# <center>Assignment #2. Optional part\n",
    "## <center> Implementation of the decision tree algorithm\n",
    "    \n",
    "#  <center>  <font color = 'red'> Warning! </font>This is a very useful but ungraded assignment"
   ]
  },
  {
   "cell_type": "code",
   "execution_count": 104,
   "metadata": {},
   "outputs": [],
   "source": [
    "import numpy as np\n",
    "from matplotlib import pyplot as plt\n",
    "from sklearn.base import BaseEstimator\n",
    "from sklearn.datasets import make_classification, make_regression, load_digits, load_boston\n",
    "from sklearn.model_selection import train_test_split, GridSearchCV\n",
    "from sklearn.metrics import accuracy_score, mean_squared_error\n",
    "import pandas as pd\n",
    "from scipy.stats import entropy"
   ]
  },
  {
   "cell_type": "markdown",
   "metadata": {},
   "source": [
    "Let's fix `random_state` (a.k.a. random seed) beforehand."
   ]
  },
  {
   "cell_type": "code",
   "execution_count": 5,
   "metadata": {},
   "outputs": [],
   "source": [
    "RANDOM_STATE = 17"
   ]
  },
  {
   "cell_type": "markdown",
   "metadata": {
    "collapsed": true
   },
   "source": [
    "**Implement the class `DecisionTree`**\n",
    "**Specification:**\n",
    "- the class is inherited from `sklearn.BaseEstimator`;\n",
    "- class constructor has the following parameters: \n",
    "    `max_depth` - maximum depth of the tree (`numpy.inf` by default); \n",
    "    `min_samples_split` - the minimum number of instances in a node for a splitting to be done (2 by default); \n",
    "    `criterion` - split criterion ('gini' or 'entropy' for classification, 'variance' or 'mad_median' for regression; 'gini' by default);\n",
    "    \n",
    "    A functional to be maximized to find an optimal partition at a given node has the form\n",
    "    $$Q(X, j, t) = F(X) - \\dfrac{|X_l|}{|X|} F(X_l) - \\dfrac{|X_r|}{|X|} F(X_r),$$\n",
    "    where $X$ are samples at a given node, $X_l$ and $X_r$ are partitions of samples $X$ into two parts \n",
    "    with the following condition $[x_j < t]$, and $F(X)$ is a partition criterion.\n",
    "    \n",
    "    For classification: let $p_i$ be the fraction of the instances of the $i$-th class in the dataset $X$.\n",
    "    \n",
    "    'gini': Gini impurity $F(X) = 1 -\\sum_{i = 1}^K p_i^2$.\n",
    "    \n",
    "    'entropy': Entropy $F(X) = -\\sum_{i = 1}^K p_i \\log_2(p_i)$.\n",
    "    \n",
    "    For regression: $y_j = y(x_j)$ - is a target for an instance $x_j$, $y = (y_1, \\dots, y_{|X|})$ - is a target vector.\n",
    "    \n",
    "    'variance': Variance (mean quadratic deviation from average) $F(X) = \\dfrac{1}{|X|} \\sum_{x_j \\in X}(y_j - \\dfrac{1}{|X|}\\sum_{x_i \\in X}y_i)^2$\n",
    "    \n",
    "    'mad_median': Mean deviation from the median $F(X) = \\dfrac{1}{|X|} \\sum_{x_j \\in X}|y_j - \\mathrm{med}(y)|$\n",
    "    \n",
    "- the class has several methods: `fit`, `predict` and `predict_proba`;\n",
    "- the`fit` method takes the matrix of instances `X` and a target vector `y` (`numpy.ndarray` objects) and returns an instance of the class `DecisionTree` representing the decision tree trained on the dataset `(X, y)` according to parameters set in the constructor; \n",
    "- the `predict_proba` method takes the matrix of instances `X` and returns the matrix `P` of a size `X.shape[0] x K`, where `K` is the number of classes and $p_{ij}$ is the probability of an instance in $i$-th row of `X` to belong to class $j \\in \\{1, \\dots, K\\}$.\n",
    "- the `predict` method takes the matrix of instances `X` and returns a prediction vector; in case of classification, prediction for an instance $x_i$ falling into leaf $L$ will be the class, mostly represented among instances in $L$. In case of regression, it'll be the mean value of targets for all instances in leaf $L$."
   ]
  },
  {
   "cell_type": "code",
   "execution_count": 6,
   "metadata": {},
   "outputs": [],
   "source": [
    "def entropy1(y):    \n",
    "    e = 0\n",
    "    for v in y:\n",
    "        e += -v *np.log2(v)\n",
    "\n",
    "def gini(y):\n",
    "    sum = 0\n",
    "    for i in y:\n",
    "        sum += i**2\n",
    "    return 1 - sum    \n",
    "\n",
    "def variance(y):\n",
    "     return np.var(y) \n",
    "\n",
    "def mad_median(y):\n",
    "    pass"
   ]
  },
  {
   "cell_type": "markdown",
   "metadata": {},
   "source": [
    "The `Node` class implements a node in the decision tree."
   ]
  },
  {
   "cell_type": "code",
   "execution_count": 94,
   "metadata": {},
   "outputs": [],
   "source": [
    "class Node():\n",
    "\n",
    "    def __init__(self, feature_idx=0, threshold=0, labels=None, left=None, right=None):\n",
    "        self.feature_idx = feature_idx\n",
    "        self.threshold = threshold\n",
    "        self.labels = labels\n",
    "        self.left = left\n",
    "        self.right = right\n",
    "\n",
    "    def __str__(self):\n",
    "        return 'feature index = {0},threshold ={1},[{2},{3}]'.format(self.feature_idx, self.threshold, len((self.left)), len((self.right)))"
   ]
  },
  {
   "cell_type": "markdown",
   "metadata": {},
   "source": [
    "Let's determine the function for calculating a prediction in a leaf. For regression, let's take the mean for all values in a leaf, for classification - the most popular class in leaf."
   ]
  },
  {
   "cell_type": "code",
   "execution_count": 114,
   "metadata": {},
   "outputs": [],
   "source": [
    "class DecisionTree(BaseEstimator):\n",
    "\n",
    "    def __str__(self):\n",
    "\n",
    "        if self.left_child is None:\n",
    "            left = \"\"\n",
    "        else:\n",
    "            left = \"\\r\\n\" + str(self.left_child)\n",
    "\n",
    "        if self.right_child is None:\n",
    "            right = \"\"\n",
    "        else:\n",
    "            right = \"\\r\\n\" + str(self.right_child)\n",
    "\n",
    "        if self.root_node is None:\n",
    "            current = \"\"\n",
    "        else:\n",
    "            current = str(self.root_node)\n",
    "        return current + left + right\n",
    "\n",
    "    def __init__(self, max_depth=np.inf, min_samples_split=2,\n",
    "                 criterion='gini', debug=False):\n",
    "        self.max_depth = max_depth\n",
    "        self.min_samples_split = min_samples_split\n",
    "        self.criterion = criterion\n",
    "        if criterion == 'gini':\n",
    "            self.crit = gini\n",
    "        else:\n",
    "            self.crit = entropy\n",
    "\n",
    "        self.left_child = None\n",
    "        self.right_child = None\n",
    "        self.root_node = None\n",
    "        self.debug = debug\n",
    "\n",
    "\n",
    "    def fit(self, X, y):\n",
    "        global node_counter\n",
    "\n",
    "        if len(y) < self.min_samples_split:\n",
    "            self.root_node = Node(-1, -1, 'leaf', y, [0])\n",
    "            self.root_node.counter = node_counter\n",
    "            node_counter += 1\n",
    "            self.right_child = None\n",
    "            self.left_child = None\n",
    "            return self\n",
    "\n",
    "        max_q = float(\"-inf\")\n",
    "        best_split_value = None\n",
    "        best_feature = None\n",
    "\n",
    "        for f in range(X.shape[1]):\n",
    "            x_col = X[:, f]\n",
    "            splits = self._find_splits(x_col)\n",
    "\n",
    "            for spl in splits:\n",
    "\n",
    "                # разбиваю данные по нацлучшему критерию\n",
    "                q, _, _ = self._regression_var_criterion(X, f, y, spl)\n",
    "                if q > max_q:\n",
    "                    max_q = q\n",
    "                    best_feature = f\n",
    "                    best_split_value = spl\n",
    "\n",
    "        if best_feature is None:\n",
    "            return None\n",
    "\n",
    "        X_left, X_right, y_l, y_r = self._get_data_split(X, y, best_feature, best_split_value)\n",
    "\n",
    "        assert X_left is not None\n",
    "        assert X_right is not None\n",
    "\n",
    "        if self.max_depth == 0:\n",
    "            self.root_node = Node(best_feature, best_split_value, 'leaf', y_l, y_r)\n",
    "            self.root_node.counter = node_counter\n",
    "            node_counter += 1\n",
    "            self.left_child = None\n",
    "            self.right_child = None\n",
    "            return self\n",
    "\n",
    "        new_depth = self.max_depth\n",
    "        if new_depth != np.inf:\n",
    "            new_depth -= 1\n",
    "\n",
    "        if self.debug:\n",
    "            print(\"call left branch with X_left.shape = {0}, len(y_l) = {1}\".format(X_left.shape, len(y_l)))\n",
    "\n",
    "        left_tree = DecisionTree(max_depth=new_depth, min_samples_split=self.min_samples_split,\n",
    "                                 criterion=self.criterion, debug=self.debug)\n",
    "        self.left_child = left_tree.fit(X_left, y_l)\n",
    "\n",
    "        if self.debug:\n",
    "            print(\"call right branch with X_right.shape = {0}, len(y_r) = {1}\".format(X_right.shape, len(y_r)))\n",
    "\n",
    "        right_tree = DecisionTree(max_depth=new_depth, min_samples_split=self.min_samples_split,\n",
    "                                  criterion=self.criterion, debug=self.debug)\n",
    "        self.right_child = right_tree.fit(X_right, y_r)\n",
    "\n",
    "        self.root_node = Node(best_feature, best_split_value, str(best_feature), y_l, y_r)\n",
    "\n",
    "        return self\n",
    "\n",
    "    def predict(self, X):\n",
    "\n",
    "        predictions = []\n",
    "        for x in X:\n",
    "\n",
    "            cur_tree = self\n",
    "            leaf = cur_tree.root_node\n",
    "            while cur_tree is not None:\n",
    "\n",
    "                leaf = cur_tree.root_node\n",
    "\n",
    "                assert leaf is not None, \"leaf.root_node is not None\"\n",
    "\n",
    "                if x[cur_tree.root_node.feature_idx] < cur_tree.root_node.threshold:\n",
    "                    cur_tree = cur_tree.left_child\n",
    "                else:\n",
    "                    cur_tree = cur_tree.right_child\n",
    "\n",
    "            assert leaf is not None, \"leaf is not None\"\n",
    "#            assert leaf.labels == 'leaf', \"leaf.labels =='leaf'\"\n",
    "\n",
    "            if isinstance(x, pd.DataFrame):\n",
    "                type = X.dtypes[leaf.feature_idx]\n",
    "                if type == 'object':\n",
    "                    predictions.append(self.most_frequent(np.append(leaf.left, leaf.right)))\n",
    "                else:\n",
    "                    predictions.append(np.mean(np.append(leaf.left, leaf.right)))\n",
    "            else:\n",
    "                predictions.append(self._most_frequent(list(np.append(leaf.left, leaf.right))))\n",
    "        return predictions\n",
    "\n",
    "    def predict_leaf_number(self, x):\n",
    "        predictions = []\n",
    "\n",
    "        cur_tree = self\n",
    "        leaf = cur_tree.root_node\n",
    "        while cur_tree is not None:\n",
    "\n",
    "            leaf = cur_tree.root_node\n",
    "\n",
    "            assert leaf is not None, \"leaf.root_node is not None\"\n",
    "\n",
    "            if x[cur_tree.root_node.feature_idx] < cur_tree.root_node.threshold:\n",
    "                cur_tree = cur_tree.left_child\n",
    "            else:\n",
    "                cur_tree = cur_tree.right_child\n",
    "\n",
    "        assert leaf is not None, \"leaf is not None\"\n",
    "        assert leaf.labels == 'leaf', \"leaf.labels =='leaf'\"\n",
    "        assert leaf.counter >= 0 , \"leaf.counter >= 0\"\n",
    "        return leaf.counter\n",
    "\n",
    "\n",
    "\n",
    "    def predict_proba(self, X):\n",
    "        K = self.count_leafs()\n",
    "        result = []\n",
    "        i = 0\n",
    "        for x in X:\n",
    "            num = self.predict_leaf_number(x)\n",
    "            t = np.zeros(K)\n",
    "            t[num] = 1\n",
    "            result.append(t)\n",
    "        return  np.reshape(result,(X.shape[0],K))\n",
    "\n",
    "\n",
    "\n",
    "    def _find_splits(self, X):\n",
    "        \"\"\"Find all possible split values.\"\"\"\n",
    "        split_values = set()\n",
    "\n",
    "        # Get unique values in a sorted order\n",
    "        x_unique = list(np.unique(X))\n",
    "        for i in range(1, len(x_unique)):\n",
    "            # Find a point between two values\n",
    "            average = (x_unique[i - 1] + x_unique[i]) / 2.0\n",
    "            split_values.add(average)\n",
    "\n",
    "        return list(split_values)\n",
    "\n",
    "    def _most_frequent(self, lst):\n",
    "        return max(set(lst), key=lst.count)\n",
    "\n",
    "    def _regression_var_criterion(self, X, feature, y, t):\n",
    "        x_col_values = X[:, feature]\n",
    "\n",
    "        assert X.shape[0] == len(x_col_values), \"X.shape[0] == len(x_col_values)\"\n",
    "        assert X.shape[0] == len(y), \"X.shape[0] == len(y)\"\n",
    "        # print('feature = {0}, X.shape[1] = {1}'.format(feature,X.shape[1]))\n",
    "        y_l = [y[i] for i, val in enumerate(x_col_values) if val < t]\n",
    "        y_r = [y[i] for i, val in enumerate(x_col_values) if val >= t]\n",
    "        q = np.var(y) - len(y_l) / len(y) * self.crit(y_l) - len(y_r) / len(y) * self.crit(y_r)\n",
    "\n",
    "        assert len(y_l) + len(y_r) == len(y)\n",
    "        assert len(y_l) != 0 and len(y_r) != 0, \"len(y_l) == 0 or len(y_r) == 0\"\n",
    "\n",
    "        return q, y_l, y_r\n",
    "\n",
    "    def _get_data_split(self, X, y, feature, threshold):\n",
    "\n",
    "        x_col_values = X[:, feature]  #\n",
    "        assert X.shape[0] == len(x_col_values), \"X.shape[0] == len(x_col_values)\"\n",
    "        assert X.shape[0] == len(y), \"X.shape[0] == len(y)\"\n",
    "        # print('feature = {0}, X.shape[1] = {1}'.format(feature,X.shape[1]))\n",
    "        y_l = [y[i] for i, val in enumerate(x_col_values) if val < threshold]\n",
    "        y_r = [y[i] for i, val in enumerate(x_col_values) if val >= threshold]\n",
    "        X_l = X[X[:, feature] < threshold]\n",
    "        X_r = X[X[:, feature] >= threshold]\n",
    "\n",
    "        assert len(y_l) + len(y_r) == len(y), \"len(y_l) + len(y_r) == len(y)\"\n",
    "        assert X_l.shape[0] + X_r.shape[0] == X.shape[0], \"X_l.shape[0] + X_r.shape[0] == X.shape[0]\"\n",
    "        return X_l, X_r, y_l, y_r\n",
    "\n",
    "    def count_leafs(self):\n",
    "        if self.root_node.labels == 'leaf':\n",
    "            return 1\n",
    "        else:\n",
    "            sum = 0\n",
    "            if self.left_child is not None:\n",
    "                sum += self.left_child.count_leafs()\n",
    "            if self.right_child is not None:\n",
    "                sum += self.right_child.count_leafs()\n",
    "            return sum"
   ]
  },
  {
   "cell_type": "markdown",
   "metadata": {},
   "source": [
    "## Testing the implemented algorithm"
   ]
  },
  {
   "cell_type": "markdown",
   "metadata": {},
   "source": [
    "### Classification"
   ]
  },
  {
   "cell_type": "markdown",
   "metadata": {},
   "source": [
    "Download the dataset `digits` using the method `load_digits`. Split the data into train and test with the `train_test_split` method, use parameter values `test_size=0.2`, and `random_state=17`. Try to train shallow decision trees and make sure that gini and entropy criteria return different results."
   ]
  },
  {
   "cell_type": "code",
   "execution_count": 102,
   "metadata": {},
   "outputs": [],
   "source": [
    "X,y = load_digits(return_X_y=True)\n",
    "X_train, X_test, y_train, y_test = train_test_split( X, y, test_size=0.2, random_state=17)\n"
   ]
  },
  {
   "cell_type": "markdown",
   "metadata": {},
   "source": [
    "Using 5-folds cross-validation (`GridSearchCV`) pick up the optimal values of the `max_depth` and `criterion` parameters. For the parameter `max_depth` use range(3, 11), for criterion use {'gini', 'entropy'}. Quality measure is `scoring`='accuracy'."
   ]
  },
  {
   "cell_type": "code",
   "execution_count": 115,
   "metadata": {},
   "outputs": [
    {
     "name": "stdout",
     "output_type": "stream",
     "text": [
      "fit done\n"
     ]
    }
   ],
   "source": [
    "tree_params = {'max_depth': list(range(3, 11)),'criterion': ['gini']}\n",
    "tree_grid = GridSearchCV(DecisionTree(), tree_params, cv=5, scoring='accuracy')\n",
    "tree_grid.fit(X_train,y_train)\n",
    "print('fit done')"
   ]
  },
  {
   "cell_type": "markdown",
   "metadata": {},
   "source": [
    "Draw the plot of the mean quality measure `accuracy` for criteria `gini` and `entropy` depending on `max_depth`."
   ]
  },
  {
   "cell_type": "code",
   "execution_count": 107,
   "metadata": {},
   "outputs": [
    {
     "name": "stdout",
     "output_type": "stream",
     "text": [
      "{'best_estimator_': DecisionTree(criterion='gini', debug=False, max_depth=4, min_samples_split=2),\n",
      " 'best_index_': 1,\n",
      " 'best_params_': {'criterion': 'gini', 'max_depth': 4},\n",
      " 'best_score_': 0.08698677800974251,\n",
      " 'cv': 5,\n",
      " 'cv_results_': {'mean_fit_time': array([ 4.87908783,  5.99319925,  7.43594346,  8.36003594,  9.37113705,\n",
      "       10.17541742, 12.63246307, 12.81308126]),\n",
      "                 'mean_score_time': array([0.17261734, 0.16041598, 0.16981702, 0.16401634, 0.16021595,\n",
      "       0.15521545, 0.16521654, 0.16601653]),\n",
      "                 'mean_test_score': array([0.08350731, 0.08698678, 0.08698678, 0.08698678, 0.08629088,\n",
      "       0.08629088, 0.08629088, 0.08698678]),\n",
      "                 'param_criterion': masked_array(data=['gini', 'gini', 'gini', 'gini', 'gini', 'gini', 'gini',\n",
      "                   'gini'],\n",
      "             mask=[False, False, False, False, False, False, False, False],\n",
      "       fill_value='?',\n",
      "            dtype=object),\n",
      "                 'param_max_depth': masked_array(data=[3, 4, 5, 6, 7, 8, 9, 10],\n",
      "             mask=[False, False, False, False, False, False, False, False],\n",
      "       fill_value='?',\n",
      "            dtype=object),\n",
      "                 'params': [{'criterion': 'gini', 'max_depth': 3},\n",
      "                            {'criterion': 'gini', 'max_depth': 4},\n",
      "                            {'criterion': 'gini', 'max_depth': 5},\n",
      "                            {'criterion': 'gini', 'max_depth': 6},\n",
      "                            {'criterion': 'gini', 'max_depth': 7},\n",
      "                            {'criterion': 'gini', 'max_depth': 8},\n",
      "                            {'criterion': 'gini', 'max_depth': 9},\n",
      "                            {'criterion': 'gini', 'max_depth': 10}],\n",
      "                 'rank_test_score': array([8, 1, 1, 1, 5, 5, 5, 1], dtype=int32),\n",
      "                 'split0_test_score': array([0.08333333, 0.08333333, 0.08333333, 0.08333333, 0.08333333,\n",
      "       0.08333333, 0.08333333, 0.08333333]),\n",
      "                 'split1_test_score': array([0.07291667, 0.09027778, 0.09027778, 0.09027778, 0.09027778,\n",
      "       0.09027778, 0.09027778, 0.09027778]),\n",
      "                 'split2_test_score': array([0.09407666, 0.09407666, 0.09407666, 0.09407666, 0.09059233,\n",
      "       0.09059233, 0.09059233, 0.09059233]),\n",
      "                 'split3_test_score': array([0.08710801, 0.08710801, 0.08710801, 0.08710801, 0.08710801,\n",
      "       0.08710801, 0.08710801, 0.08710801]),\n",
      "                 'split4_test_score': array([0.08013937, 0.08013937, 0.08013937, 0.08013937, 0.08013937,\n",
      "       0.08013937, 0.08013937, 0.08362369]),\n",
      "                 'std_fit_time': array([0.14505733, 0.0967581 , 0.31091786, 0.24220879, 0.27882472,\n",
      "       0.1621662 , 1.33613514, 0.53973261]),\n",
      "                 'std_score_time': array([0.02690699, 0.00842952, 0.02613613, 0.01362485, 0.00856591,\n",
      "       0.00381623, 0.01473108, 0.00918782]),\n",
      "                 'std_test_score': array([0.00704636, 0.00492466, 0.00492466, 0.00492466, 0.00404044,\n",
      "       0.00404044, 0.00404044, 0.00311513])},\n",
      " 'error_score': 'raise-deprecating',\n",
      " 'estimator': DecisionTree(criterion='gini', debug=False, max_depth=inf, min_samples_split=2),\n",
      " 'iid': 'warn',\n",
      " 'multimetric_': False,\n",
      " 'n_jobs': None,\n",
      " 'n_splits_': 5,\n",
      " 'param_grid': {'criterion': ['gini'], 'max_depth': [3, 4, 5, 6, 7, 8, 9, 10]},\n",
      " 'pre_dispatch': '2*n_jobs',\n",
      " 'refit': True,\n",
      " 'refit_time_': 7.083708047866821,\n",
      " 'return_train_score': False,\n",
      " 'scorer_': make_scorer(accuracy_score),\n",
      " 'scoring': 'accuracy',\n",
      " 'verbose': 0}\n"
     ]
    },
    {
     "data": {
      "image/png": "[encoded data removed]",
      "text/plain": [
       "<Figure size 432x288 with 1 Axes>"
      ]
     },
     "metadata": {
      "needs_background": "light"
     },
     "output_type": "display_data"
    }
   ],
   "source": [
    "from pprint import pprint\n",
    "pprint(vars(tree_grid))\n",
    "\n",
    "plt.plot(tree_params['max_depth'], \n",
    "         tree_grid.cv_results_['mean_test_score'])\n",
    "plt.xlabel('Max depth')\n",
    "plt.ylabel('Mean CV accuracy');"
   ]
  },
  {
   "cell_type": "markdown",
   "metadata": {},
   "source": [
    "**1. Choose all correct statements:**\n",
    "1. Optimal value of the `max_depth` parameter is on the interval [4, 9] for both criteria.\n",
    "2. Created plots have no intersection on the interval [3, 10]\n",
    "3. Created plots intersect each other only once on the interval [3, 10].\n",
    "4. The best quality for `max_depth` on the interval [3, 10] is reached using `gini` criterion .\n",
    "5. Accuracy is strictly increasing at least for one of the criteria, when `max_depth` is also increasing on the interval [3, 10]"
   ]
  },
  {
   "cell_type": "markdown",
   "metadata": {},
   "source": [
    "**2. What are the optimal values for max_depth and criterion parameters?**\n",
    "1. max_depth = 7, criterion = 'gini';\n",
    "2. max_depth = 7, criterion = 'entropy';\n",
    "3. max_depth = 10, criterion = 'entropy';\n",
    "4. max_depth = 10, criterion = 'gini';\n",
    "5. max_depth = 9, criterion = 'entropy';\n",
    "6. max_depth = 9, criterion = 'gini';"
   ]
  },
  {
   "cell_type": "markdown",
   "metadata": {},
   "source": [
    "Train decision tree on `(X_train, y_train)` using the optimal values of `max_depth` and `criterion`. Compute class probabilities for `X_test`."
   ]
  },
  {
   "cell_type": "code",
   "execution_count": 111,
   "metadata": {},
   "outputs": [],
   "source": [
    "dt = DecisionTree(max_depth = 8,criterion = 'entropy')\n",
    "tree = dt.fit(X_train,y_train)"
   ]
  },
  {
   "cell_type": "markdown",
   "metadata": {},
   "source": [
    "Using the given matrix, compute the mean class probabilities for all instances in `X_test`."
   ]
  },
  {
   "cell_type": "code",
   "execution_count": 110,
   "metadata": {},
   "outputs": [
    {
     "name": "stdout",
     "output_type": "stream",
     "text": [
      "None\n"
     ]
    }
   ],
   "source": [
    "print(tree.predict_proba(X_test))"
   ]
  },
  {
   "cell_type": "markdown",
   "metadata": {},
   "source": [
    "**3. What is the maximum probability in a resulted vector?**\n",
    "1. 0.127\n",
    "2. 0.118\n",
    "3. 1.0\n",
    "4. 0.09"
   ]
  },
  {
   "cell_type": "markdown",
   "metadata": {},
   "source": [
    "## Regression"
   ]
  },
  {
   "cell_type": "markdown",
   "metadata": {},
   "source": [
    "Download the dataset `boston` using the method `load_boston`. Split the data into train and test with the `train_test_split` method, use parameter values `test_size=0.2`, `random_state=17`. Try to train shallow regression decision trees and make sure that `variance` and `mad_median` criteria return different results."
   ]
  },
  {
   "cell_type": "code",
   "execution_count": 11,
   "metadata": {},
   "outputs": [],
   "source": [
    "# You code here"
   ]
  },
  {
   "cell_type": "markdown",
   "metadata": {},
   "source": [
    "Using 5-folds cross-validation (`GridSearchCV`) pick up the optimal values of the `max_depth` and `criterion` parameters. For the parameter `max_depth` use `range(2, 9)`, for `criterion` use {'variance', 'mad_median'}. Quality measure is `scoring`='neg_mean_squared_error'."
   ]
  },
  {
   "cell_type": "code",
   "execution_count": 12,
   "metadata": {},
   "outputs": [],
   "source": [
    "# You code here"
   ]
  },
  {
   "cell_type": "markdown",
   "metadata": {},
   "source": [
    "Draw the plot of the mean quality measure `neg_mean_squared_error` for criteria `variance` and `mad_median` depending on `max_depth`."
   ]
  },
  {
   "cell_type": "code",
   "execution_count": 13,
   "metadata": {},
   "outputs": [],
   "source": [
    "# You code here"
   ]
  },
  {
   "cell_type": "markdown",
   "metadata": {},
   "source": [
    "**4. Choose all correct statements:**\n",
    "1. Created plots have no intersection on the interval [2, 8].\n",
    "2. Created plots intersect each other only once on the interval [2, 8].\n",
    "3. Optimal value of the `max_depth` for each of the criteria is on the border of the interval [2, 8].\n",
    "4. The best quality at `max_depth` on the interval [2, 8] is reached using `mad_median` criterion."
   ]
  },
  {
   "cell_type": "markdown",
   "metadata": {},
   "source": [
    "**5. What are the optimal values for `max_depth` and `criterion` parameters?**\n",
    "1. max_depth = 9, criterion = 'variance';\n",
    "2. max_depth = 5, criterion = 'mad_median';\n",
    "3. max_depth = 4, criterion = 'variance';\n",
    "4. max_depth = 2, criterion = 'mad_median';\n",
    "5. max_depth = 4, criterion = 'mad_median';\n",
    "6. max_depth = 5, criterion = 'variance'."
   ]
  }
 ],
 "metadata": {
  "kernelspec": {
   "display_name": "Python 3",
   "language": "python",
   "name": "python3"
  },
  "language_info": {
   "codemirror_mode": {
    "name": "ipython",
    "version": 3
   },
   "file_extension": ".py",
   "mimetype": "text/x-python",
   "name": "python",
   "nbconvert_exporter": "python",
   "pygments_lexer": "ipython3",
   "version": "3.7.0"
  },
  "name": "lesson4_part2_Decision_trees.ipynb"
 },
 "nbformat": 4,
 "nbformat_minor": 1
}
